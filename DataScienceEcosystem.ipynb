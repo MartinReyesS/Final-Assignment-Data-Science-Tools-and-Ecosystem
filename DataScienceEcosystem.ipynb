{
 "cells": [
  {
   "cell_type": "markdown",
   "id": "db92b067-aa63-4dd8-8685-d85c0ebe3189",
   "metadata": {},
   "source": [
    "# Data Science Tools and Ecosystem"
   ]
  },
  {
   "cell_type": "markdown",
   "id": "193d9d05-b6e0-4eb9-8c53-a500dd4c59d1",
   "metadata": {},
   "source": [
    "In this notebook, Data Science Tools and Ecosystem are summarized."
   ]
  },
  {
   "cell_type": "markdown",
   "id": "abf20d15-7898-491c-908a-e36a8d02f53c",
   "metadata": {},
   "source": [
    "**Objectives:** \n",
    "- List popular languages for Data Science.\n",
    "- List commonly used libraries for Data Science.\n",
    "- Mention of some open source tools in Data Science.\n",
    "- Mention of some examples of evaluating arithmetic expressions."
   ]
  },
  {
   "cell_type": "markdown",
   "id": "be6f1117-6875-4b15-8476-cd6d1b6c02ef",
   "metadata": {},
   "source": [
    "## Autor:\n",
    "\n",
    "Edwin Reyes\n"
   ]
  },
  {
   "cell_type": "markdown",
   "id": "1d96fc58-8632-4335-9e68-35b0f5af0f93",
   "metadata": {},
   "source": [
    "Some of the popular languages that Data Scientist use are:\n",
    "\n",
    "1. Python.\n",
    "2. R.\n",
    "3. SQL\n",
    "4. Scala.\n",
    "5. Java.\n",
    "6. C++.\n",
    "7. Julia."
   ]
  },
  {
   "cell_type": "markdown",
   "id": "10bbd778-09bb-441d-9436-af51a520da01",
   "metadata": {},
   "source": [
    "Some of the commonly used libraries used by Data Scientists include:\n",
    "\n",
    "1. Pandas.\n",
    "2. NumPy.\n",
    "3. SciPy.\n",
    "4. Matplotlib.\n",
    "5. TensorFlow.\n",
    "6. PyTorch.\n",
    "7. Keras.\n",
    "8. Scikit-learn."
   ]
  },
  {
   "cell_type": "markdown",
   "id": "8f06ecd6-13f9-48a3-aec2-ae50d608a03c",
   "metadata": {},
   "source": [
    "| Data Science Tools |\n",
    "|--------------------|\n",
    "| Jupyter and Jupyter Lab |\n",
    "| RStudio |\n",
    "| Visual Studio | "
   ]
  },
  {
   "cell_type": "markdown",
   "id": "d31a08dc-37f0-4ef7-b019-48cdc8b953ee",
   "metadata": {},
   "source": [
    "### Below are a few examples of evaluating arithmetic expressions in Python."
   ]
  },
  {
   "cell_type": "code",
   "execution_count": 1,
   "id": "c7bc39bb-c9c3-4987-b8bd-f30cb3e3cb3b",
   "metadata": {},
   "outputs": [
    {
     "data": {
      "text/plain": [
       "17"
      ]
     },
     "execution_count": 1,
     "metadata": {},
     "output_type": "execute_result"
    }
   ],
   "source": [
    "(3*4)+5\n",
    "## This is a simple arithmetic espression to multiply and then add integers."
   ]
  },
  {
   "cell_type": "code",
   "execution_count": 2,
   "id": "cb4d6700-b3bb-423a-adba-af73f814d362",
   "metadata": {},
   "outputs": [
    {
     "name": "stdout",
     "output_type": "stream",
     "text": [
      "200 minutes into hours gives 3.33 hours\n"
     ]
    }
   ],
   "source": [
    "print(str(200)+ \" minutes into hours gives \"+ str(round(200/60,2)) +\" hours\")\n",
    "## This will convert 200 minutes to hours by diving by 60."
   ]
  },
  {
   "cell_type": "markdown",
   "id": "52e4b746-7a1a-4afd-87a0-c8f55ceeafc2",
   "metadata": {},
   "source": []
  }
 ],
 "metadata": {
  "kernelspec": {
   "display_name": "Python 3 (ipykernel)",
   "language": "python",
   "name": "python3"
  },
  "language_info": {
   "codemirror_mode": {
    "name": "ipython",
    "version": 3
   },
   "file_extension": ".py",
   "mimetype": "text/x-python",
   "name": "python",
   "nbconvert_exporter": "python",
   "pygments_lexer": "ipython3",
   "version": "3.11.1"
  }
 },
 "nbformat": 4,
 "nbformat_minor": 5
}
